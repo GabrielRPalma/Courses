{
 "cells": [
  {
   "cell_type": "markdown",
   "id": "b9ce1e50",
   "metadata": {},
   "source": [
    "# Machine vision methods Convolutional Neural Networks"
   ]
  },
  {
   "cell_type": "markdown",
   "id": "5929d550",
   "metadata": {},
   "source": [
    "Purpose: Create a data set containing only insect pictures collected from the experiment of Ong, 2022\n",
    "\n",
    "Author: Gabriel R. Palma"
   ]
  },
  {
   "cell_type": "markdown",
   "id": "ca1e1cab",
   "metadata": {},
   "source": [
    "## Loading packages"
   ]
  },
  {
   "cell_type": "code",
   "execution_count": 1,
   "id": "21172586",
   "metadata": {},
   "outputs": [],
   "source": [
    "from tensorflow import keras\n",
    "import matplotlib.pyplot as plt\n",
    "from tensorflow.keras import layers\n",
    "\n",
    "# Importing section\n",
    "from tensorflow.keras import models\n",
    "from keras import layers\n",
    "from tensorflow.keras import optimizers\n",
    "from keras.applications.vgg16 import VGG16\n",
    "from keras.preprocessing import image\n",
    "import numpy as np\n",
    "from keras import backend as K\n",
    "import os\n",
    "from keras.preprocessing.image import ImageDataGenerator\n",
    "import pandas as pd\n",
    "# Paper Correction\n",
    "from keras import metrics\n",
    "# End importing section\n",
    "import cv2\n",
    "import matplotlib.pyplot as plt\n",
    "from sklearn.metrics import confusion_matrix, accuracy_score, f1_score\n",
    "from scipy.io import wavfile\n",
    "import pylab\n",
    "from tensorflow.keras.utils import to_categorical\n",
    "datagen = ImageDataGenerator(rescale=1./255)\n",
    "batch_size = 32\n",
    "from keras.layers import LeakyReLU\n",
    "import tensorflow as tf\n",
    "from keras.callbacks import EarlyStopping, ModelCheckpoint, ReduceLROnPlateau\n",
    "from keras.optimizers import Adam"
   ]
  },
  {
   "cell_type": "markdown",
   "id": "42090543",
   "metadata": {},
   "source": [
    "## Functions used in this project"
   ]
  },
  {
   "cell_type": "code",
   "execution_count": 2,
   "id": "865c8402",
   "metadata": {},
   "outputs": [],
   "source": [
    "def get_images_labels_features(directory, sample_count, new_image_shape = (244, 244)):\n",
    "    '''Loads and crop the images according the appropriate conditions. Also, it returns the feature and labels of the VGG16 predictions'''\n",
    "        \n",
    "    images = np.zeros(shape=(sample_count, new_image_shape[0], new_image_shape[1], 3))    \n",
    "    labels = np.zeros(shape=(sample_count))\n",
    "    generator = datagen.flow_from_directory(directory,\n",
    "                                            target_size = new_image_shape,\n",
    "                                            batch_size = batch_size,\n",
    "                                            class_mode = 'binary',\n",
    "                                            shuffle = True,\n",
    "                                            seed=0)\n",
    "    i = 0\n",
    "\n",
    "    for inputs_batch, labels_batch in generator:\n",
    "                            \n",
    "        images[i * batch_size : (i + 1) * batch_size] = inputs_batch        \n",
    "        labels[i * batch_size : (i + 1) * batch_size] = labels_batch\n",
    "        i += 1\n",
    "\n",
    "        if i * batch_size >= sample_count:\n",
    "\n",
    "             break\n",
    "    return(images, labels)\n",
    "\n",
    "def get_train_test_data(base_dir = 'input_data/DipteraDataset',\n",
    "                        train_sample_size = 100, test_sample_size = 100, \n",
    "                        new_image_shape = (244, 244)):\n",
    "    '''This function imports the dataset and split into train and test data return the features and labels of the images'''\n",
    "        \n",
    "    \n",
    "    # Importing images data\n",
    "    train_dir = os.path.join(base_dir, 'train')\n",
    "    test_dir = os.path.join(base_dir, 'test')\n",
    "    datagen = ImageDataGenerator(rescale=1./255)\n",
    "    batch_size = 20    \n",
    "\n",
    "    # Getting data features and labels    \n",
    "    train_information = get_images_labels_features(directory = train_dir, \n",
    "                                                   sample_count = train_sample_size, \n",
    "                                                   new_image_shape = new_image_shape)    \n",
    "    train_images = train_information[0]\n",
    "    train_labels = train_information[1]\n",
    "    \n",
    "    test_information = get_images_labels_features(directory = test_dir, \n",
    "                                                  sample_count = test_sample_size, \n",
    "                                                  new_image_shape = new_image_shape)    \n",
    "    test_images = test_information[0]\n",
    "    test_labels = test_information[1]\n",
    "\n",
    "    # Preparing data features    \n",
    "    train_labels = to_categorical(train_labels)\n",
    "    test_labels = to_categorical(test_labels)        \n",
    "        \n",
    "    return(train_images, train_labels, test_images, test_labels)"
   ]
  },
  {
   "cell_type": "markdown",
   "id": "b418d819",
   "metadata": {},
   "source": [
    "## Creating a simple Deep Neural Network"
   ]
  },
  {
   "cell_type": "code",
   "execution_count": 3,
   "id": "36061a53",
   "metadata": {},
   "outputs": [
    {
     "name": "stdout",
     "output_type": "stream",
     "text": [
      "Metal device set to: Apple M1\n"
     ]
    },
    {
     "name": "stderr",
     "output_type": "stream",
     "text": [
      "2024-05-30 06:43:00.687556: I tensorflow/core/common_runtime/pluggable_device/pluggable_device_factory.cc:305] Could not identify NUMA node of platform GPU ID 0, defaulting to 0. Your kernel may not have been built with NUMA support.\n",
      "2024-05-30 06:43:00.687924: I tensorflow/core/common_runtime/pluggable_device/pluggable_device_factory.cc:271] Created TensorFlow device (/job:localhost/replica:0/task:0/device:GPU:0 with 0 MB memory) -> physical PluggableDevice (device: 0, name: METAL, pci bus id: <undefined>)\n"
     ]
    }
   ],
   "source": [
    "model = models.Sequential()\n",
    "model.add(layers.Conv2D(10, kernel_size=3, activation=LeakyReLU(alpha=0.3), \n",
    "               input_shape=(224, 224, 3)))\n",
    "model.add(layers.Conv2D(5, kernel_size=3, activation=LeakyReLU(alpha=0.3)))\n",
    "model.add(layers.MaxPool2D(2))\n",
    "\n",
    "model.add(layers.Conv2D(10, kernel_size=3, activation=LeakyReLU(alpha=0.3)))\n",
    "model.add(layers.MaxPool2D(2))\n",
    "\n",
    "model.add(layers.Conv2D(15, kernel_size=3, activation=LeakyReLU(alpha=0.3)))\n",
    "model.add(layers.MaxPool2D(2))\n",
    "\n",
    "model.add(layers.Conv2D(15, kernel_size=3, activation=LeakyReLU(alpha=0.3)))\n",
    "model.add(layers.MaxPool2D(2))\n",
    "\n",
    "model.add(layers.Conv2D(10, kernel_size=3, activation=LeakyReLU(alpha=0.3)))\n",
    "model.add(layers.MaxPool2D(2))\n",
    "\n",
    "model.add(layers.Conv2D(5, kernel_size=3, activation=LeakyReLU(alpha=0.3)))\n",
    "#model.add(layers.GlobalMaxPooling2D())\n",
    "model.add(layers.Flatten())\n",
    "model.add(layers.Dense(10, activation=LeakyReLU(alpha=0.3), input_dim=45))\n",
    "model.add(layers.Dense(5, activation='softmax'))"
   ]
  },
  {
   "cell_type": "code",
   "execution_count": 4,
   "id": "6ea228a3",
   "metadata": {},
   "outputs": [
    {
     "name": "stdout",
     "output_type": "stream",
     "text": [
      "Model: \"sequential\"\n",
      "_________________________________________________________________\n",
      " Layer (type)                Output Shape              Param #   \n",
      "=================================================================\n",
      " conv2d (Conv2D)             (None, 222, 222, 10)      280       \n",
      "                                                                 \n",
      " conv2d_1 (Conv2D)           (None, 220, 220, 5)       455       \n",
      "                                                                 \n",
      " max_pooling2d (MaxPooling2D  (None, 110, 110, 5)      0         \n",
      " )                                                               \n",
      "                                                                 \n",
      " conv2d_2 (Conv2D)           (None, 108, 108, 10)      460       \n",
      "                                                                 \n",
      " max_pooling2d_1 (MaxPooling  (None, 54, 54, 10)       0         \n",
      " 2D)                                                             \n",
      "                                                                 \n",
      " conv2d_3 (Conv2D)           (None, 52, 52, 15)        1365      \n",
      "                                                                 \n",
      " max_pooling2d_2 (MaxPooling  (None, 26, 26, 15)       0         \n",
      " 2D)                                                             \n",
      "                                                                 \n",
      " conv2d_4 (Conv2D)           (None, 24, 24, 15)        2040      \n",
      "                                                                 \n",
      " max_pooling2d_3 (MaxPooling  (None, 12, 12, 15)       0         \n",
      " 2D)                                                             \n",
      "                                                                 \n",
      " conv2d_5 (Conv2D)           (None, 10, 10, 10)        1360      \n",
      "                                                                 \n",
      " max_pooling2d_4 (MaxPooling  (None, 5, 5, 10)         0         \n",
      " 2D)                                                             \n",
      "                                                                 \n",
      " conv2d_6 (Conv2D)           (None, 3, 3, 5)           455       \n",
      "                                                                 \n",
      " flatten (Flatten)           (None, 45)                0         \n",
      "                                                                 \n",
      " dense (Dense)               (None, 10)                460       \n",
      "                                                                 \n",
      " dense_1 (Dense)             (None, 5)                 55        \n",
      "                                                                 \n",
      "=================================================================\n",
      "Total params: 6,930\n",
      "Trainable params: 6,930\n",
      "Non-trainable params: 0\n",
      "_________________________________________________________________\n"
     ]
    }
   ],
   "source": [
    "model.summary()"
   ]
  },
  {
   "cell_type": "code",
   "execution_count": 5,
   "id": "2a5b3b21",
   "metadata": {},
   "outputs": [],
   "source": [
    "model2 = models.Sequential()\n",
    "model2.add(layers.Conv2D(10, kernel_size=3, activation=LeakyReLU(alpha=0.3), \n",
    "               input_shape=(224, 224, 3)))\n",
    "model2.add(layers.Conv2D(5, kernel_size=3, activation=LeakyReLU(alpha=0.3)))\n",
    "model2.add(layers.MaxPool2D(2))\n",
    "\n",
    "model2.add(layers.Conv2D(10, kernel_size=3, activation=LeakyReLU(alpha=0.3)))\n",
    "model2.add(layers.MaxPool2D(2))\n",
    "\n",
    "model2.add(layers.Conv2D(15, kernel_size=3, activation=LeakyReLU(alpha=0.3)))\n",
    "model2.add(layers.MaxPool2D(2))\n",
    "\n",
    "model2.add(layers.Conv2D(15, kernel_size=3, activation=LeakyReLU(alpha=0.3)))\n",
    "model2.add(layers.MaxPool2D(2))\n",
    "\n",
    "model2.add(layers.Conv2D(10, kernel_size=3, activation=LeakyReLU(alpha=0.3)))\n",
    "model2.add(layers.MaxPool2D(2))\n",
    "\n",
    "model2.add(layers.Conv2D(5, kernel_size=3, activation=LeakyReLU(alpha=0.3)))\n",
    "model2.add(layers.Flatten())\n",
    "model2.add(layers.Dense(10, activation=LeakyReLU(alpha=0.3), input_dim=45))\n",
    "model2.add(layers.Dense(5, activation='softmax'))"
   ]
  },
  {
   "cell_type": "code",
   "execution_count": 6,
   "id": "5fd57280",
   "metadata": {},
   "outputs": [],
   "source": [
    "model3 = models.Sequential()\n",
    "model3.add(layers.Conv2D(10, kernel_size=3, activation=LeakyReLU(alpha=0.3), \n",
    "               input_shape=(224, 224, 3)))\n",
    "model3.add(layers.Conv2D(5, kernel_size=3, activation=LeakyReLU(alpha=0.3)))\n",
    "model3.add(layers.MaxPool2D(2))\n",
    "\n",
    "model3.add(layers.Conv2D(10, kernel_size=3, activation=LeakyReLU(alpha=0.3)))\n",
    "model3.add(layers.MaxPool2D(2))\n",
    "\n",
    "model3.add(layers.Conv2D(15, kernel_size=3, activation=LeakyReLU(alpha=0.3)))\n",
    "model3.add(layers.MaxPool2D(2))\n",
    "\n",
    "model3.add(layers.Conv2D(15, kernel_size=3, activation=LeakyReLU(alpha=0.3)))\n",
    "model3.add(layers.MaxPool2D(2))\n",
    "\n",
    "model3.add(layers.Conv2D(10, kernel_size=3, activation=LeakyReLU(alpha=0.3)))\n",
    "model3.add(layers.MaxPool2D(2))\n",
    "\n",
    "model3.add(layers.Conv2D(5, kernel_size=3, activation=LeakyReLU(alpha=0.3)))\n",
    "model3.add(layers.Flatten())\n",
    "model3.add(layers.Dense(10, activation=LeakyReLU(alpha=0.3), input_dim=45))\n",
    "model3.add(layers.Dense(5, activation='softmax'))"
   ]
  },
  {
   "cell_type": "markdown",
   "id": "4dfc2e88",
   "metadata": {},
   "source": [
    "## Training the models"
   ]
  },
  {
   "cell_type": "markdown",
   "id": "904ac3ae",
   "metadata": {},
   "source": [
    "### Obtaining images and labels"
   ]
  },
  {
   "cell_type": "markdown",
   "id": "995577ac",
   "metadata": {},
   "source": [
    "#### Original dataset"
   ]
  },
  {
   "cell_type": "code",
   "execution_count": 7,
   "id": "07d0a1a5",
   "metadata": {},
   "outputs": [
    {
     "name": "stdout",
     "output_type": "stream",
     "text": [
      "Found 2026 images belonging to 5 classes.\n",
      "Found 848 images belonging to 5 classes.\n"
     ]
    }
   ],
   "source": [
    "train_images, train_labels, test_images, test_labels = get_train_test_data(base_dir = '../../input_data/DipteraDataset/',\n",
    "                                                                               train_sample_size = 2026, test_sample_size = 848, \n",
    "                                                                               new_image_shape = (224, 224))\n"
   ]
  },
  {
   "cell_type": "markdown",
   "id": "06cd87b0",
   "metadata": {},
   "source": [
    "# Model performance"
   ]
  },
  {
   "cell_type": "code",
   "execution_count": 16,
   "id": "615ba0c8",
   "metadata": {},
   "outputs": [
    {
     "name": "stderr",
     "output_type": "stream",
     "text": [
      "2024-05-26 23:51:06.542287: I tensorflow/core/grappler/optimizers/custom_graph_optimizer_registry.cc:113] Plugin optimizer for device_type GPU is enabled.\n"
     ]
    },
    {
     "name": "stdout",
     "output_type": "stream",
     "text": [
      "64/64 [==============================] - 3s 43ms/step - loss: 0.0017 - accuracy: 1.0000\n",
      "[0.0016659441171213984, 1.0]\n",
      "27/27 [==============================] - 2s 56ms/step - loss: 2.0793 - accuracy: 0.7524\n",
      "[2.079329252243042, 0.7523584961891174]\n"
     ]
    }
   ],
   "source": [
    "model.load_weights('CNN_original_data.h5')\n",
    "model.compile(optimizer=Adam(), \n",
    "                 loss='categorical_crossentropy', \n",
    "                 metrics=[\"accuracy\"])\n",
    "print(model.evaluate(train_images, train_labels))\n",
    "print(model.evaluate(test_images, test_labels))"
   ]
  },
  {
   "cell_type": "code",
   "execution_count": 9,
   "id": "e585b114",
   "metadata": {},
   "outputs": [
    {
     "name": "stdout",
     "output_type": "stream",
     "text": [
      "\r",
      " 1/27 [>.............................] - ETA: 8s"
     ]
    },
    {
     "name": "stderr",
     "output_type": "stream",
     "text": [
      "2024-05-26 23:45:47.576540: I tensorflow/core/grappler/optimizers/custom_graph_optimizer_registry.cc:113] Plugin optimizer for device_type GPU is enabled.\n"
     ]
    },
    {
     "name": "stdout",
     "output_type": "stream",
     "text": [
      "27/27 [==============================] - 1s 34ms/step\n"
     ]
    },
    {
     "data": {
      "text/plain": [
       "array([0.1641791 , 0.90960452, 0.85034014, 0.99418605, 0.98013245])"
      ]
     },
     "execution_count": 9,
     "metadata": {},
     "output_type": "execute_result"
    }
   ],
   "source": [
    "cnn_predictions = tf.math.argmax(model.predict(test_images), axis=1)\n",
    "cm = confusion_matrix(cnn_predictions, tf.math.argmax(test_labels, axis=1))\n",
    "total_specimens = np.bincount(tf.math.argmax(test_labels, axis=1))\n",
    "np.diag(cm) / total_specimens"
   ]
  },
  {
   "cell_type": "code",
   "execution_count": 10,
   "id": "088a581a",
   "metadata": {},
   "outputs": [
    {
     "data": {
      "text/plain": [
       "array([201, 177, 147, 172, 151])"
      ]
     },
     "execution_count": 10,
     "metadata": {},
     "output_type": "execute_result"
    }
   ],
   "source": [
    "total_specimens"
   ]
  },
  {
   "cell_type": "code",
   "execution_count": 11,
   "id": "5e6a87b6",
   "metadata": {},
   "outputs": [
    {
     "data": {
      "text/plain": [
       "array([[ 33,  16,   0,   0,   0],\n",
       "       [101, 161,   0,   0,   0],\n",
       "       [ 25,   0, 125,   1,   3],\n",
       "       [ 42,   0,   4, 171,   0],\n",
       "       [  0,   0,  18,   0, 148]])"
      ]
     },
     "execution_count": 11,
     "metadata": {},
     "output_type": "execute_result"
    }
   ],
   "source": [
    "cm"
   ]
  },
  {
   "cell_type": "code",
   "execution_count": 12,
   "id": "00db3110",
   "metadata": {},
   "outputs": [
    {
     "data": {
      "text/plain": [
       "0.5024875621890548"
      ]
     },
     "execution_count": 12,
     "metadata": {},
     "output_type": "execute_result"
    }
   ],
   "source": [
    "101/201"
   ]
  },
  {
   "cell_type": "markdown",
   "id": "4ca753a5",
   "metadata": {},
   "source": [
    "## Training CNN"
   ]
  },
  {
   "cell_type": "markdown",
   "id": "b43f276b",
   "metadata": {},
   "source": [
    "#### Original data"
   ]
  },
  {
   "cell_type": "code",
   "execution_count": 8,
   "id": "9084a3e6",
   "metadata": {},
   "outputs": [],
   "source": [
    "callbacks = [        \n",
    "    ModelCheckpoint('CNN_original_data2.h5', verbose = 1, \n",
    "                    save_best_only = True, save_weights_only = True, monitor='val_acc')\n",
    "]"
   ]
  },
  {
   "cell_type": "code",
   "execution_count": 9,
   "id": "b9789926",
   "metadata": {},
   "outputs": [
    {
     "name": "stdout",
     "output_type": "stream",
     "text": [
      "Epoch 1/30\n"
     ]
    },
    {
     "name": "stderr",
     "output_type": "stream",
     "text": [
      "2024-05-30 06:43:33.754885: W tensorflow/core/platform/profile_utils/cpu_utils.cc:128] Failed to get CPU frequency: 0 Hz\n",
      "2024-05-30 06:43:34.430014: I tensorflow/core/grappler/optimizers/custom_graph_optimizer_registry.cc:113] Plugin optimizer for device_type GPU is enabled.\n"
     ]
    },
    {
     "name": "stdout",
     "output_type": "stream",
     "text": [
      "64/64 [==============================] - ETA: 0s - loss: 1.5836 - acc: 0.2611 - precision: 0.0000e+00 - recall: 0.0000e+00"
     ]
    },
    {
     "name": "stderr",
     "output_type": "stream",
     "text": [
      "2024-05-30 06:43:43.492269: I tensorflow/core/grappler/optimizers/custom_graph_optimizer_registry.cc:113] Plugin optimizer for device_type GPU is enabled.\n"
     ]
    },
    {
     "name": "stdout",
     "output_type": "stream",
     "text": [
      "\n",
      "Epoch 1: val_acc improved from -inf to 0.23703, saving model to CNN_original_data2.h5\n",
      "64/64 [==============================] - 11s 128ms/step - loss: 1.5836 - acc: 0.2611 - precision: 0.0000e+00 - recall: 0.0000e+00 - val_loss: 1.5991 - val_acc: 0.2370 - val_precision: 0.0000e+00 - val_recall: 0.0000e+00\n",
      "Epoch 2/30\n",
      "64/64 [==============================] - ETA: 0s - loss: 1.4175 - acc: 0.3796 - precision: 0.5897 - recall: 0.0844\n",
      "Epoch 2: val_acc improved from 0.23703 to 0.25236, saving model to CNN_original_data2.h5\n",
      "64/64 [==============================] - 7s 102ms/step - loss: 1.4175 - acc: 0.3796 - precision: 0.5897 - recall: 0.0844 - val_loss: 1.6903 - val_acc: 0.2524 - val_precision: 0.2874 - val_recall: 0.0566\n",
      "Epoch 3/30\n",
      "64/64 [==============================] - ETA: 0s - loss: 1.0686 - acc: 0.5439 - precision: 0.6804 - recall: 0.3332\n",
      "Epoch 3: val_acc improved from 0.25236 to 0.34788, saving model to CNN_original_data2.h5\n",
      "64/64 [==============================] - 6s 99ms/step - loss: 1.0686 - acc: 0.5439 - precision: 0.6804 - recall: 0.3332 - val_loss: 2.0545 - val_acc: 0.3479 - val_precision: 0.3794 - val_recall: 0.2653\n",
      "Epoch 4/30\n",
      "64/64 [==============================] - ETA: 0s - loss: 0.8168 - acc: 0.6713 - precision: 0.7490 - recall: 0.5523\n",
      "Epoch 4: val_acc improved from 0.34788 to 0.44811, saving model to CNN_original_data2.h5\n",
      "64/64 [==============================] - 6s 99ms/step - loss: 0.8168 - acc: 0.6713 - precision: 0.7490 - recall: 0.5523 - val_loss: 2.1594 - val_acc: 0.4481 - val_precision: 0.5018 - val_recall: 0.3243\n",
      "Epoch 5/30\n",
      "64/64 [==============================] - ETA: 0s - loss: 0.5985 - acc: 0.7651 - precision: 0.8191 - recall: 0.6905\n",
      "Epoch 5: val_acc improved from 0.44811 to 0.58255, saving model to CNN_original_data2.h5\n",
      "64/64 [==============================] - 6s 100ms/step - loss: 0.5985 - acc: 0.7651 - precision: 0.8191 - recall: 0.6905 - val_loss: 2.6518 - val_acc: 0.5825 - val_precision: 0.6096 - val_recall: 0.5248\n",
      "Epoch 6/30\n",
      "64/64 [==============================] - ETA: 0s - loss: 0.4017 - acc: 0.8509 - precision: 0.8701 - recall: 0.8164\n",
      "Epoch 6: val_acc improved from 0.58255 to 0.64033, saving model to CNN_original_data2.h5\n",
      "64/64 [==============================] - 6s 99ms/step - loss: 0.4017 - acc: 0.8509 - precision: 0.8701 - recall: 0.8164 - val_loss: 2.4583 - val_acc: 0.6403 - val_precision: 0.6641 - val_recall: 0.6085\n",
      "Epoch 7/30\n",
      "64/64 [==============================] - ETA: 0s - loss: 0.2816 - acc: 0.8894 - precision: 0.9031 - recall: 0.8741\n",
      "Epoch 7: val_acc did not improve from 0.64033\n",
      "64/64 [==============================] - 6s 100ms/step - loss: 0.2816 - acc: 0.8894 - precision: 0.9031 - recall: 0.8741 - val_loss: 2.6720 - val_acc: 0.6014 - val_precision: 0.6076 - val_recall: 0.5861\n",
      "Epoch 8/30\n",
      "64/64 [==============================] - ETA: 0s - loss: 0.2018 - acc: 0.9240 - precision: 0.9331 - recall: 0.9151\n",
      "Epoch 8: val_acc improved from 0.64033 to 0.68632, saving model to CNN_original_data2.h5\n",
      "64/64 [==============================] - 6s 100ms/step - loss: 0.2018 - acc: 0.9240 - precision: 0.9331 - recall: 0.9151 - val_loss: 2.2277 - val_acc: 0.6863 - val_precision: 0.7111 - val_recall: 0.6733\n",
      "Epoch 9/30\n",
      "64/64 [==============================] - ETA: 0s - loss: 0.1396 - acc: 0.9472 - precision: 0.9531 - recall: 0.9437\n",
      "Epoch 9: val_acc did not improve from 0.68632\n",
      "64/64 [==============================] - 6s 100ms/step - loss: 0.1396 - acc: 0.9472 - precision: 0.9531 - recall: 0.9437 - val_loss: 3.2986 - val_acc: 0.6462 - val_precision: 0.6534 - val_recall: 0.6403\n",
      "Epoch 10/30\n",
      "64/64 [==============================] - ETA: 0s - loss: 0.0822 - acc: 0.9763 - precision: 0.9772 - recall: 0.9724\n",
      "Epoch 10: val_acc did not improve from 0.68632\n",
      "64/64 [==============================] - 6s 100ms/step - loss: 0.0822 - acc: 0.9763 - precision: 0.9772 - recall: 0.9724 - val_loss: 3.0348 - val_acc: 0.6781 - val_precision: 0.6877 - val_recall: 0.6698\n",
      "Epoch 11/30\n",
      "64/64 [==============================] - ETA: 0s - loss: 0.0644 - acc: 0.9798 - precision: 0.9827 - recall: 0.9788\n",
      "Epoch 11: val_acc did not improve from 0.68632\n",
      "64/64 [==============================] - 6s 100ms/step - loss: 0.0644 - acc: 0.9798 - precision: 0.9827 - recall: 0.9788 - val_loss: 2.9169 - val_acc: 0.6781 - val_precision: 0.6794 - val_recall: 0.6722\n",
      "Epoch 12/30\n",
      "64/64 [==============================] - ETA: 0s - loss: 0.0745 - acc: 0.9758 - precision: 0.9772 - recall: 0.9743\n",
      "Epoch 12: val_acc improved from 0.68632 to 0.70401, saving model to CNN_original_data2.h5\n",
      "64/64 [==============================] - 6s 100ms/step - loss: 0.0745 - acc: 0.9758 - precision: 0.9772 - recall: 0.9743 - val_loss: 3.0485 - val_acc: 0.7040 - val_precision: 0.7048 - val_recall: 0.6981\n",
      "Epoch 13/30\n",
      "64/64 [==============================] - ETA: 0s - loss: 0.0291 - acc: 0.9921 - precision: 0.9931 - recall: 0.9916\n",
      "Epoch 13: val_acc did not improve from 0.70401\n",
      "64/64 [==============================] - 6s 100ms/step - loss: 0.0291 - acc: 0.9921 - precision: 0.9931 - recall: 0.9916 - val_loss: 4.0281 - val_acc: 0.6698 - val_precision: 0.6714 - val_recall: 0.6651\n",
      "Epoch 14/30\n",
      "64/64 [==============================] - ETA: 0s - loss: 0.0194 - acc: 0.9956 - precision: 0.9965 - recall: 0.9956\n",
      "Epoch 14: val_acc did not improve from 0.70401\n",
      "64/64 [==============================] - 6s 100ms/step - loss: 0.0194 - acc: 0.9956 - precision: 0.9965 - recall: 0.9956 - val_loss: 5.0081 - val_acc: 0.6521 - val_precision: 0.6521 - val_recall: 0.6498\n",
      "Epoch 15/30\n",
      "64/64 [==============================] - ETA: 0s - loss: 0.0135 - acc: 0.9965 - precision: 0.9970 - recall: 0.9965\n",
      "Epoch 15: val_acc did not improve from 0.70401\n",
      "64/64 [==============================] - 6s 100ms/step - loss: 0.0135 - acc: 0.9965 - precision: 0.9970 - recall: 0.9965 - val_loss: 4.0868 - val_acc: 0.6934 - val_precision: 0.6940 - val_recall: 0.6899\n",
      "Epoch 16/30\n",
      "64/64 [==============================] - ETA: 0s - loss: 0.0044 - acc: 1.0000 - precision: 1.0000 - recall: 1.0000\n",
      "Epoch 16: val_acc did not improve from 0.70401\n",
      "64/64 [==============================] - 6s 99ms/step - loss: 0.0044 - acc: 1.0000 - precision: 1.0000 - recall: 1.0000 - val_loss: 5.0053 - val_acc: 0.6875 - val_precision: 0.6912 - val_recall: 0.6863\n",
      "Epoch 17/30\n",
      "64/64 [==============================] - ETA: 0s - loss: 0.0054 - acc: 0.9990 - precision: 0.9990 - recall: 0.9985\n",
      "Epoch 17: val_acc did not improve from 0.70401\n",
      "64/64 [==============================] - 6s 100ms/step - loss: 0.0054 - acc: 0.9990 - precision: 0.9990 - recall: 0.9985 - val_loss: 4.6433 - val_acc: 0.6899 - val_precision: 0.6912 - val_recall: 0.6863\n",
      "Epoch 18/30\n",
      "64/64 [==============================] - ETA: 0s - loss: 0.0399 - acc: 0.9906 - precision: 0.9906 - recall: 0.9901\n",
      "Epoch 18: val_acc did not improve from 0.70401\n",
      "64/64 [==============================] - 6s 99ms/step - loss: 0.0399 - acc: 0.9906 - precision: 0.9906 - recall: 0.9901 - val_loss: 4.5460 - val_acc: 0.6910 - val_precision: 0.6919 - val_recall: 0.6887\n",
      "Epoch 19/30\n",
      "64/64 [==============================] - ETA: 0s - loss: 0.0067 - acc: 0.9990 - precision: 0.9990 - recall: 0.9990\n",
      "Epoch 19: val_acc did not improve from 0.70401\n",
      "64/64 [==============================] - 6s 100ms/step - loss: 0.0067 - acc: 0.9990 - precision: 0.9990 - recall: 0.9990 - val_loss: 5.1973 - val_acc: 0.6816 - val_precision: 0.6861 - val_recall: 0.6804\n",
      "Epoch 20/30\n",
      "64/64 [==============================] - ETA: 0s - loss: 0.0017 - acc: 1.0000 - precision: 1.0000 - recall: 1.0000\n",
      "Epoch 20: val_acc did not improve from 0.70401\n",
      "64/64 [==============================] - 6s 99ms/step - loss: 0.0017 - acc: 1.0000 - precision: 1.0000 - recall: 1.0000 - val_loss: 5.3682 - val_acc: 0.6863 - val_precision: 0.6868 - val_recall: 0.6851\n",
      "Epoch 21/30\n",
      "64/64 [==============================] - ETA: 0s - loss: 0.0038 - acc: 0.9985 - precision: 0.9985 - recall: 0.9985\n",
      "Epoch 21: val_acc did not improve from 0.70401\n",
      "64/64 [==============================] - 6s 100ms/step - loss: 0.0038 - acc: 0.9985 - precision: 0.9985 - recall: 0.9985 - val_loss: 5.0202 - val_acc: 0.6875 - val_precision: 0.6883 - val_recall: 0.6875\n",
      "Epoch 22/30\n"
     ]
    },
    {
     "name": "stdout",
     "output_type": "stream",
     "text": [
      "64/64 [==============================] - ETA: 0s - loss: 0.0269 - acc: 0.9906 - precision: 0.9906 - recall: 0.9906\n",
      "Epoch 22: val_acc did not improve from 0.70401\n",
      "64/64 [==============================] - 6s 99ms/step - loss: 0.0269 - acc: 0.9906 - precision: 0.9906 - recall: 0.9906 - val_loss: 5.0065 - val_acc: 0.6804 - val_precision: 0.6809 - val_recall: 0.6769\n",
      "Epoch 23/30\n",
      "64/64 [==============================] - ETA: 0s - loss: 0.0534 - acc: 0.9788 - precision: 0.9802 - recall: 0.9778\n",
      "Epoch 23: val_acc improved from 0.70401 to 0.70637, saving model to CNN_original_data2.h5\n",
      "64/64 [==============================] - 6s 100ms/step - loss: 0.0534 - acc: 0.9788 - precision: 0.9802 - recall: 0.9778 - val_loss: 3.3970 - val_acc: 0.7064 - val_precision: 0.7095 - val_recall: 0.7028\n",
      "Epoch 24/30\n",
      "64/64 [==============================] - ETA: 0s - loss: 0.0140 - acc: 0.9965 - precision: 0.9965 - recall: 0.9961\n",
      "Epoch 24: val_acc improved from 0.70637 to 0.72406, saving model to CNN_original_data2.h5\n",
      "64/64 [==============================] - 6s 99ms/step - loss: 0.0140 - acc: 0.9965 - precision: 0.9965 - recall: 0.9961 - val_loss: 3.7296 - val_acc: 0.7241 - val_precision: 0.7263 - val_recall: 0.7229\n",
      "Epoch 25/30\n",
      "64/64 [==============================] - ETA: 0s - loss: 0.0015 - acc: 1.0000 - precision: 1.0000 - recall: 1.0000\n",
      "Epoch 25: val_acc improved from 0.72406 to 0.72524, saving model to CNN_original_data2.h5\n",
      "64/64 [==============================] - 6s 99ms/step - loss: 0.0015 - acc: 1.0000 - precision: 1.0000 - recall: 1.0000 - val_loss: 4.0262 - val_acc: 0.7252 - val_precision: 0.7254 - val_recall: 0.7229\n",
      "Epoch 26/30\n",
      "64/64 [==============================] - ETA: 0s - loss: 0.0012 - acc: 1.0000 - precision: 1.0000 - recall: 1.0000\n",
      "Epoch 26: val_acc did not improve from 0.72524\n",
      "64/64 [==============================] - 6s 99ms/step - loss: 0.0012 - acc: 1.0000 - precision: 1.0000 - recall: 1.0000 - val_loss: 4.3648 - val_acc: 0.7217 - val_precision: 0.7251 - val_recall: 0.7217\n",
      "Epoch 27/30\n",
      "64/64 [==============================] - ETA: 0s - loss: 6.4974e-04 - acc: 1.0000 - precision: 1.0000 - recall: 1.0000\n",
      "Epoch 27: val_acc did not improve from 0.72524\n",
      "64/64 [==============================] - 6s 99ms/step - loss: 6.4974e-04 - acc: 1.0000 - precision: 1.0000 - recall: 1.0000 - val_loss: 4.4896 - val_acc: 0.7099 - val_precision: 0.7124 - val_recall: 0.7099\n",
      "Epoch 28/30\n",
      "64/64 [==============================] - ETA: 0s - loss: 5.5643e-04 - acc: 1.0000 - precision: 1.0000 - recall: 1.0000\n",
      "Epoch 28: val_acc improved from 0.72524 to 0.72642, saving model to CNN_original_data2.h5\n",
      "64/64 [==============================] - 6s 99ms/step - loss: 5.5643e-04 - acc: 1.0000 - precision: 1.0000 - recall: 1.0000 - val_loss: 4.4496 - val_acc: 0.7264 - val_precision: 0.7275 - val_recall: 0.7241\n",
      "Epoch 29/30\n",
      "64/64 [==============================] - ETA: 0s - loss: 4.5152e-04 - acc: 1.0000 - precision: 1.0000 - recall: 1.0000\n",
      "Epoch 29: val_acc did not improve from 0.72642\n",
      "64/64 [==============================] - 6s 99ms/step - loss: 4.5152e-04 - acc: 1.0000 - precision: 1.0000 - recall: 1.0000 - val_loss: 4.6294 - val_acc: 0.7182 - val_precision: 0.7204 - val_recall: 0.7170\n",
      "Epoch 30/30\n",
      "64/64 [==============================] - ETA: 0s - loss: 3.7010e-04 - acc: 1.0000 - precision: 1.0000 - recall: 1.0000\n",
      "Epoch 30: val_acc did not improve from 0.72642\n",
      "64/64 [==============================] - 6s 99ms/step - loss: 3.7010e-04 - acc: 1.0000 - precision: 1.0000 - recall: 1.0000 - val_loss: 4.6520 - val_acc: 0.7217 - val_precision: 0.7222 - val_recall: 0.7205\n"
     ]
    }
   ],
   "source": [
    "model.compile(optimizer = Adam(), loss='categorical_crossentropy', \n",
    "              metrics=['acc', metrics.Precision(), metrics.Recall()])\n",
    "\n",
    "CNN_original_data = model.fit(train_images, train_labels, \n",
    "                    batch_size=32, epochs=30, callbacks=callbacks,\n",
    "                    validation_data=(test_images, test_labels))"
   ]
  },
  {
   "cell_type": "code",
   "execution_count": 19,
   "id": "69290034",
   "metadata": {},
   "outputs": [],
   "source": [
    "exploratory_performance = pd.DataFrame(CNN_original_data.history)\n",
    "exploratory_performance.to_csv(\"../../output_data/CNN_original_dataset.csv\")"
   ]
  },
  {
   "cell_type": "code",
   "execution_count": 21,
   "id": "d7a455a7",
   "metadata": {},
   "outputs": [
    {
     "data": {
      "text/plain": [
       "<AxesSubplot:>"
      ]
     },
     "execution_count": 21,
     "metadata": {},
     "output_type": "execute_result"
    },
    {
     "data": {
      "image/png": "[encoded data removed]",
      "text/plain": [
       "<Figure size 432x288 with 1 Axes>"
      ]
     },
     "metadata": {
      "needs_background": "light"
     },
     "output_type": "display_data"
    },
    {
     "data": {
      "image/png": "[encoded data removed]",
      "text/plain": [
       "<Figure size 432x288 with 1 Axes>"
      ]
     },
     "metadata": {
      "needs_background": "light"
     },
     "output_type": "display_data"
    }
   ],
   "source": [
    "exploratory_performance[['acc', 'val_acc']].plot()\n",
    "exploratory_performance[['loss', 'val_loss']].plot()"
   ]
  }
 ],
 "metadata": {
  "kernelspec": {
   "display_name": "Python 3 (ipykernel)",
   "language": "python",
   "name": "python3"
  },
  "language_info": {
   "codemirror_mode": {
    "name": "ipython",
    "version": 3
   },
   "file_extension": ".py",
   "mimetype": "text/x-python",
   "name": "python",
   "nbconvert_exporter": "python",
   "pygments_lexer": "ipython3",
   "version": "3.9.13"
  }
 },
 "nbformat": 4,
 "nbformat_minor": 5
}
